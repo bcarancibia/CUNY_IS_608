{
 "metadata": {
  "name": "",
  "signature": "sha256:ac6a2499668d5fbc964c33b8661d9e2ebc7efa6d2421c0a7e1eb4101ad47e40e"
 },
 "nbformat": 3,
 "nbformat_minor": 0,
 "worksheets": [
  {
   "cells": [
    {
     "cell_type": "code",
     "collapsed": false,
     "input": [
      "import pandas as p\n",
      "from ggplot import *"
     ],
     "language": "python",
     "metadata": {},
     "outputs": [],
     "prompt_number": 3
    },
    {
     "cell_type": "markdown",
     "metadata": {},
     "source": [
      "import done, now read in data"
     ]
    },
    {
     "cell_type": "code",
     "collapsed": false,
     "input": [
      "river_keeper = p.read_csv('/users/bcarancibia/CUNY_IS_608/lecture4/data/riverkeeper_data_2013.csv')"
     ],
     "language": "python",
     "metadata": {},
     "outputs": [],
     "prompt_number": 4
    },
    {
     "cell_type": "code",
     "collapsed": false,
     "input": [
      "#look at data"
     ],
     "language": "python",
     "metadata": {},
     "outputs": [],
     "prompt_number": 5
    },
    {
     "cell_type": "code",
     "collapsed": false,
     "input": [
      "river_keeper[0:5]"
     ],
     "language": "python",
     "metadata": {},
     "outputs": [
      {
       "html": [
        "<div style=\"max-height:1000px;max-width:1500px;overflow:auto;\">\n",
        "<table border=\"1\" class=\"dataframe\">\n",
        "  <thead>\n",
        "    <tr style=\"text-align: right;\">\n",
        "      <th></th>\n",
        "      <th>Site</th>\n",
        "      <th>Date</th>\n",
        "      <th>EnteroCount</th>\n",
        "      <th>FourDayRainTotal</th>\n",
        "      <th>SampleCount</th>\n",
        "    </tr>\n",
        "  </thead>\n",
        "  <tbody>\n",
        "    <tr>\n",
        "      <th>0</th>\n",
        "      <td> Hudson above Mohawk River</td>\n",
        "      <td> 10/16/2011</td>\n",
        "      <td> 1733</td>\n",
        "      <td> 1.5</td>\n",
        "      <td> 35</td>\n",
        "    </tr>\n",
        "    <tr>\n",
        "      <th>1</th>\n",
        "      <td> Hudson above Mohawk River</td>\n",
        "      <td> 10/21/2013</td>\n",
        "      <td>    4</td>\n",
        "      <td> 0.2</td>\n",
        "      <td> 35</td>\n",
        "    </tr>\n",
        "    <tr>\n",
        "      <th>2</th>\n",
        "      <td> Hudson above Mohawk River</td>\n",
        "      <td>  9/21/2013</td>\n",
        "      <td>   20</td>\n",
        "      <td> 0.0</td>\n",
        "      <td> 35</td>\n",
        "    </tr>\n",
        "    <tr>\n",
        "      <th>3</th>\n",
        "      <td> Hudson above Mohawk River</td>\n",
        "      <td>  8/19/2013</td>\n",
        "      <td>    6</td>\n",
        "      <td> 0.0</td>\n",
        "      <td> 35</td>\n",
        "    </tr>\n",
        "    <tr>\n",
        "      <th>4</th>\n",
        "      <td> Hudson above Mohawk River</td>\n",
        "      <td>  7/21/2013</td>\n",
        "      <td>   31</td>\n",
        "      <td> 0.0</td>\n",
        "      <td> 35</td>\n",
        "    </tr>\n",
        "  </tbody>\n",
        "</table>\n",
        "</div>"
       ],
       "metadata": {},
       "output_type": "pyout",
       "prompt_number": 6,
       "text": [
        "                        Site        Date EnteroCount  FourDayRainTotal  \\\n",
        "0  Hudson above Mohawk River  10/16/2011        1733               1.5   \n",
        "1  Hudson above Mohawk River  10/21/2013           4               0.2   \n",
        "2  Hudson above Mohawk River   9/21/2013          20               0.0   \n",
        "3  Hudson above Mohawk River   8/19/2013           6               0.0   \n",
        "4  Hudson above Mohawk River   7/21/2013          31               0.0   \n",
        "\n",
        "   SampleCount  \n",
        "0           35  \n",
        "1           35  \n",
        "2           35  \n",
        "3           35  \n",
        "4           35  "
       ]
      }
     ],
     "prompt_number": 6
    },
    {
     "cell_type": "code",
     "collapsed": false,
     "input": [
      "river_keeper.describe()"
     ],
     "language": "python",
     "metadata": {},
     "outputs": [
      {
       "html": [
        "<div style=\"max-height:1000px;max-width:1500px;overflow:auto;\">\n",
        "<table border=\"1\" class=\"dataframe\">\n",
        "  <thead>\n",
        "    <tr style=\"text-align: right;\">\n",
        "      <th></th>\n",
        "      <th>FourDayRainTotal</th>\n",
        "      <th>SampleCount</th>\n",
        "    </tr>\n",
        "  </thead>\n",
        "  <tbody>\n",
        "    <tr>\n",
        "      <th>count</th>\n",
        "      <td> 3397.000000</td>\n",
        "      <td> 3397.000000</td>\n",
        "    </tr>\n",
        "    <tr>\n",
        "      <th>mean</th>\n",
        "      <td>    0.568001</td>\n",
        "      <td>   56.886370</td>\n",
        "    </tr>\n",
        "    <tr>\n",
        "      <th>std</th>\n",
        "      <td>    1.000387</td>\n",
        "      <td>   41.588476</td>\n",
        "    </tr>\n",
        "    <tr>\n",
        "      <th>min</th>\n",
        "      <td>    0.000000</td>\n",
        "      <td>   27.000000</td>\n",
        "    </tr>\n",
        "    <tr>\n",
        "      <th>25%</th>\n",
        "      <td>    0.000000</td>\n",
        "      <td>   37.000000</td>\n",
        "    </tr>\n",
        "    <tr>\n",
        "      <th>50%</th>\n",
        "      <td>    0.200000</td>\n",
        "      <td>   42.000000</td>\n",
        "    </tr>\n",
        "    <tr>\n",
        "      <th>75%</th>\n",
        "      <td>    0.700000</td>\n",
        "      <td>   50.000000</td>\n",
        "    </tr>\n",
        "    <tr>\n",
        "      <th>max</th>\n",
        "      <td>    8.500000</td>\n",
        "      <td>  187.000000</td>\n",
        "    </tr>\n",
        "  </tbody>\n",
        "</table>\n",
        "</div>"
       ],
       "metadata": {},
       "output_type": "pyout",
       "prompt_number": 7,
       "text": [
        "       FourDayRainTotal  SampleCount\n",
        "count       3397.000000  3397.000000\n",
        "mean           0.568001    56.886370\n",
        "std            1.000387    41.588476\n",
        "min            0.000000    27.000000\n",
        "25%            0.000000    37.000000\n",
        "50%            0.200000    42.000000\n",
        "75%            0.700000    50.000000\n",
        "max            8.500000   187.000000"
       ]
      }
     ],
     "prompt_number": 7
    },
    {
     "cell_type": "code",
     "collapsed": false,
     "input": [
      "river_keeper['EnteroCount'].value_counts()"
     ],
     "language": "python",
     "metadata": {},
     "outputs": [
      {
       "metadata": {},
       "output_type": "pyout",
       "prompt_number": 8,
       "text": [
        "<10      528\n",
        "10       289\n",
        "20       148\n",
        "2         83\n",
        "4         78\n",
        "3         77\n",
        "1         77\n",
        "31        65\n",
        "41        64\n",
        "6         64\n",
        "5         63\n",
        ">2420     59\n",
        "11        59\n",
        "12        50\n",
        "7         47\n",
        "...\n",
        "280     1\n",
        "400     1\n",
        "2400    1\n",
        "404     1\n",
        "939     1\n",
        "288     1\n",
        "138     1\n",
        "4229    1\n",
        "479     1\n",
        "131     1\n",
        "1785    1\n",
        "760     1\n",
        "763     1\n",
        "762     1\n",
        "137     1\n",
        "Length: 425, dtype: int64"
       ]
      }
     ],
     "prompt_number": 8
    },
    {
     "cell_type": "code",
     "collapsed": false,
     "input": [
      "#there are some bad values and need to look at....>2420, 4229, <10\n",
      "#row 2384 in the provider dataset has a value of >24196\n",
      "#need to figure out what to do with this data\n",
      "#also there is data that is less than <1....\n",
      "#need to remove all this data and make it better to do the plotting"
     ],
     "language": "python",
     "metadata": {},
     "outputs": [],
     "prompt_number": 9
    },
    {
     "cell_type": "code",
     "collapsed": false,
     "input": [
      "#solution for <1 make it 0 because there is no way to know the percentage.\n",
      "#solution for <10 is put numbers from 0-10\n",
      "#no idea what to do with values greater than >24196\n"
     ],
     "language": "python",
     "metadata": {},
     "outputs": [],
     "prompt_number": 10
    },
    {
     "cell_type": "code",
     "collapsed": false,
     "input": [
      "river_keeper['EnteroCount']=river_keeper['EnteroCount'].convert_objects(convert_numeric=True)\n",
      "ggplot(river_keeper,aes(x='EnteroCount')) + geom_histogram(binwidth=500) + xlim(0, 5000) + ylim(0,100)"
     ],
     "language": "python",
     "metadata": {},
     "outputs": [
      {
       "metadata": {},
       "output_type": "pyout",
       "prompt_number": 18,
       "text": [
        "<ggplot: (282134093)>"
       ]
      }
     ],
     "prompt_number": 18
    },
    {
     "cell_type": "code",
     "collapsed": false,
     "input": [
      "#how do i insert an image into my ipython? just brings a popup of the image..."
     ],
     "language": "python",
     "metadata": {},
     "outputs": []
    },
    {
     "cell_type": "code",
     "collapsed": false,
     "input": [
      "#ok so values thata are above 2420 going to just use difference of 2500 and 5000 and divide by 2. Find the average.\n",
      "#2500/2 =1250 so 2500+1250 = 3750.....seems a bit high.\n",
      "#do the value changes see input 9-10 to see my reasoning"
     ],
     "language": "python",
     "metadata": {},
     "outputs": [],
     "prompt_number": 17
    },
    {
     "cell_type": "code",
     "collapsed": false,
     "input": [
      "import random\n",
      "river_keeper['EnteroCount'].replace(to_replace='<1', value=0, inplace=True)\n",
      "\n",
      "river_keeper['EnteroCount'].replace(to_replace='<10', value=int(10*random.random()), inplace=True)\n",
      "river_keeper['EnteroCount'].replace(to_replace='>2420', value=3750, inplace=True)"
     ],
     "language": "python",
     "metadata": {},
     "outputs": [],
     "prompt_number": 23
    },
    {
     "cell_type": "code",
     "collapsed": false,
     "input": [
      "#make sure everything is numeric"
     ],
     "language": "python",
     "metadata": {},
     "outputs": [],
     "prompt_number": 24
    },
    {
     "cell_type": "code",
     "collapsed": false,
     "input": [
      "river_keeper['EnteroCount'] = river_keeper['EnteroCount'].convert_objects(convert_numeric=True)"
     ],
     "language": "python",
     "metadata": {},
     "outputs": [],
     "prompt_number": 25
    },
    {
     "cell_type": "code",
     "collapsed": false,
     "input": [
      "river_keeper.describe()"
     ],
     "language": "python",
     "metadata": {},
     "outputs": [
      {
       "html": [
        "<div style=\"max-height:1000px;max-width:1500px;overflow:auto;\">\n",
        "<table border=\"1\" class=\"dataframe\">\n",
        "  <thead>\n",
        "    <tr style=\"text-align: right;\">\n",
        "      <th></th>\n",
        "      <th>EnteroCount</th>\n",
        "      <th>FourDayRainTotal</th>\n",
        "      <th>SampleCount</th>\n",
        "    </tr>\n",
        "  </thead>\n",
        "  <tbody>\n",
        "    <tr>\n",
        "      <th>count</th>\n",
        "      <td>  2746.000000</td>\n",
        "      <td> 3397.000000</td>\n",
        "      <td> 3397.000000</td>\n",
        "    </tr>\n",
        "    <tr>\n",
        "      <th>mean</th>\n",
        "      <td>   249.510197</td>\n",
        "      <td>    0.568001</td>\n",
        "      <td>   56.886370</td>\n",
        "    </tr>\n",
        "    <tr>\n",
        "      <th>std</th>\n",
        "      <td>   954.885002</td>\n",
        "      <td>    1.000387</td>\n",
        "      <td>   41.588476</td>\n",
        "    </tr>\n",
        "    <tr>\n",
        "      <th>min</th>\n",
        "      <td>     0.000000</td>\n",
        "      <td>    0.000000</td>\n",
        "      <td>   27.000000</td>\n",
        "    </tr>\n",
        "    <tr>\n",
        "      <th>25%</th>\n",
        "      <td>    10.000000</td>\n",
        "      <td>    0.000000</td>\n",
        "      <td>   37.000000</td>\n",
        "    </tr>\n",
        "    <tr>\n",
        "      <th>50%</th>\n",
        "      <td>    24.000000</td>\n",
        "      <td>    0.200000</td>\n",
        "      <td>   42.000000</td>\n",
        "    </tr>\n",
        "    <tr>\n",
        "      <th>75%</th>\n",
        "      <td>   107.000000</td>\n",
        "      <td>    0.700000</td>\n",
        "      <td>   50.000000</td>\n",
        "    </tr>\n",
        "    <tr>\n",
        "      <th>max</th>\n",
        "      <td> 24196.000000</td>\n",
        "      <td>    8.500000</td>\n",
        "      <td>  187.000000</td>\n",
        "    </tr>\n",
        "  </tbody>\n",
        "</table>\n",
        "</div>"
       ],
       "metadata": {},
       "output_type": "pyout",
       "prompt_number": 26,
       "text": [
        "        EnteroCount  FourDayRainTotal  SampleCount\n",
        "count   2746.000000       3397.000000  3397.000000\n",
        "mean     249.510197          0.568001    56.886370\n",
        "std      954.885002          1.000387    41.588476\n",
        "min        0.000000          0.000000    27.000000\n",
        "25%       10.000000          0.000000    37.000000\n",
        "50%       24.000000          0.200000    42.000000\n",
        "75%      107.000000          0.700000    50.000000\n",
        "max    24196.000000          8.500000   187.000000"
       ]
      }
     ],
     "prompt_number": 26
    },
    {
     "cell_type": "code",
     "collapsed": false,
     "input": [
      "#cool good to go I think"
     ],
     "language": "python",
     "metadata": {},
     "outputs": [],
     "prompt_number": 27
    },
    {
     "cell_type": "heading",
     "level": 2,
     "metadata": {},
     "source": [
      "Create lists & graphs of the best and worst places to swim in the dataset."
     ]
    },
    {
     "cell_type": "markdown",
     "metadata": {},
     "source": [
      "\"Best\" and \"Worst\" are not the best description and if you look at the data set there is no pass or fail in terms of the amount of EnteroCount found in the testing site. The federal standard for unacceptable water quality is a single sample value of greater than 110 Enterococcus/100mL, or five or more samples with a geometric mean (a weighted average) greater than 30 Enterococcus/100mL. \n",
      "\n",
      "To define pass and fail of water quality I am going to look for water samples with less than or equal to 110 as pass and greater than 110 as fail."
     ]
    },
    {
     "cell_type": "code",
     "collapsed": false,
     "input": [
      "#create new field for pass fail"
     ],
     "language": "python",
     "metadata": {},
     "outputs": [],
     "prompt_number": 28
    },
    {
     "cell_type": "code",
     "collapsed": false,
     "input": [
      "river_keeper['safety_pass_fail'] = river_keeper['EnteroCount'] <= 110"
     ],
     "language": "python",
     "metadata": {},
     "outputs": [],
     "prompt_number": 29
    },
    {
     "cell_type": "code",
     "collapsed": false,
     "input": [
      "river_keeper[0:5]"
     ],
     "language": "python",
     "metadata": {},
     "outputs": [
      {
       "html": [
        "<div style=\"max-height:1000px;max-width:1500px;overflow:auto;\">\n",
        "<table border=\"1\" class=\"dataframe\">\n",
        "  <thead>\n",
        "    <tr style=\"text-align: right;\">\n",
        "      <th></th>\n",
        "      <th>Site</th>\n",
        "      <th>Date</th>\n",
        "      <th>EnteroCount</th>\n",
        "      <th>FourDayRainTotal</th>\n",
        "      <th>SampleCount</th>\n",
        "      <th>pass_safety</th>\n",
        "    </tr>\n",
        "  </thead>\n",
        "  <tbody>\n",
        "    <tr>\n",
        "      <th>0</th>\n",
        "      <td> Hudson above Mohawk River</td>\n",
        "      <td> 10/16/2011</td>\n",
        "      <td> 1733</td>\n",
        "      <td> 1.5</td>\n",
        "      <td> 35</td>\n",
        "      <td> False</td>\n",
        "    </tr>\n",
        "    <tr>\n",
        "      <th>1</th>\n",
        "      <td> Hudson above Mohawk River</td>\n",
        "      <td> 10/21/2013</td>\n",
        "      <td>    4</td>\n",
        "      <td> 0.2</td>\n",
        "      <td> 35</td>\n",
        "      <td>  True</td>\n",
        "    </tr>\n",
        "    <tr>\n",
        "      <th>2</th>\n",
        "      <td> Hudson above Mohawk River</td>\n",
        "      <td>  9/21/2013</td>\n",
        "      <td>   20</td>\n",
        "      <td> 0.0</td>\n",
        "      <td> 35</td>\n",
        "      <td>  True</td>\n",
        "    </tr>\n",
        "    <tr>\n",
        "      <th>3</th>\n",
        "      <td> Hudson above Mohawk River</td>\n",
        "      <td>  8/19/2013</td>\n",
        "      <td>    6</td>\n",
        "      <td> 0.0</td>\n",
        "      <td> 35</td>\n",
        "      <td>  True</td>\n",
        "    </tr>\n",
        "    <tr>\n",
        "      <th>4</th>\n",
        "      <td> Hudson above Mohawk River</td>\n",
        "      <td>  7/21/2013</td>\n",
        "      <td>   31</td>\n",
        "      <td> 0.0</td>\n",
        "      <td> 35</td>\n",
        "      <td>  True</td>\n",
        "    </tr>\n",
        "  </tbody>\n",
        "</table>\n",
        "</div>"
       ],
       "metadata": {},
       "output_type": "pyout",
       "prompt_number": 30,
       "text": [
        "                        Site        Date  EnteroCount  FourDayRainTotal  \\\n",
        "0  Hudson above Mohawk River  10/16/2011         1733               1.5   \n",
        "1  Hudson above Mohawk River  10/21/2013            4               0.2   \n",
        "2  Hudson above Mohawk River   9/21/2013           20               0.0   \n",
        "3  Hudson above Mohawk River   8/19/2013            6               0.0   \n",
        "4  Hudson above Mohawk River   7/21/2013           31               0.0   \n",
        "\n",
        "   SampleCount pass_safety  \n",
        "0           35       False  \n",
        "1           35        True  \n",
        "2           35        True  \n",
        "3           35        True  \n",
        "4           35        True  "
       ]
      }
     ],
     "prompt_number": 30
    },
    {
     "cell_type": "code",
     "collapsed": false,
     "input": [],
     "language": "python",
     "metadata": {},
     "outputs": []
    }
   ],
   "metadata": {}
  }
 ]
}