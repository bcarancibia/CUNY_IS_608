{
 "metadata": {
  "name": "",
  "signature": "sha256:14f6b606a1de5d6eb0309e6b6e75f50198ca7f8657fd4dfd9775b516b8331f0a"
 },
 "nbformat": 3,
 "nbformat_minor": 0,
 "worksheets": [
  {
   "cells": [
    {
     "cell_type": "code",
     "collapsed": false,
     "input": [
      "import pandas as p\n",
      "from ggplot import *"
     ],
     "language": "python",
     "metadata": {},
     "outputs": [],
     "prompt_number": 2
    },
    {
     "cell_type": "markdown",
     "metadata": {},
     "source": [
      "import done, now read in data"
     ]
    },
    {
     "cell_type": "code",
     "collapsed": false,
     "input": [
      "river_keeper = p.read_csv('/users/bcarancibia/CUNY_IS_608/lecture4/data/riverkeeper_data_2013.csv')"
     ],
     "language": "python",
     "metadata": {},
     "outputs": [],
     "prompt_number": 3
    },
    {
     "cell_type": "code",
     "collapsed": false,
     "input": [
      "#look at data"
     ],
     "language": "python",
     "metadata": {},
     "outputs": [],
     "prompt_number": 4
    },
    {
     "cell_type": "code",
     "collapsed": false,
     "input": [
      "river_keeper[0:5]"
     ],
     "language": "python",
     "metadata": {},
     "outputs": [
      {
       "html": [
        "<div style=\"max-height:1000px;max-width:1500px;overflow:auto;\">\n",
        "<table border=\"1\" class=\"dataframe\">\n",
        "  <thead>\n",
        "    <tr style=\"text-align: right;\">\n",
        "      <th></th>\n",
        "      <th>Site</th>\n",
        "      <th>Date</th>\n",
        "      <th>EnteroCount</th>\n",
        "      <th>FourDayRainTotal</th>\n",
        "      <th>SampleCount</th>\n",
        "    </tr>\n",
        "  </thead>\n",
        "  <tbody>\n",
        "    <tr>\n",
        "      <th>0</th>\n",
        "      <td> Hudson above Mohawk River</td>\n",
        "      <td> 10/16/2011</td>\n",
        "      <td> 1733</td>\n",
        "      <td> 1.5</td>\n",
        "      <td> 35</td>\n",
        "    </tr>\n",
        "    <tr>\n",
        "      <th>1</th>\n",
        "      <td> Hudson above Mohawk River</td>\n",
        "      <td> 10/21/2013</td>\n",
        "      <td>    4</td>\n",
        "      <td> 0.2</td>\n",
        "      <td> 35</td>\n",
        "    </tr>\n",
        "    <tr>\n",
        "      <th>2</th>\n",
        "      <td> Hudson above Mohawk River</td>\n",
        "      <td>  9/21/2013</td>\n",
        "      <td>   20</td>\n",
        "      <td> 0.0</td>\n",
        "      <td> 35</td>\n",
        "    </tr>\n",
        "    <tr>\n",
        "      <th>3</th>\n",
        "      <td> Hudson above Mohawk River</td>\n",
        "      <td>  8/19/2013</td>\n",
        "      <td>    6</td>\n",
        "      <td> 0.0</td>\n",
        "      <td> 35</td>\n",
        "    </tr>\n",
        "    <tr>\n",
        "      <th>4</th>\n",
        "      <td> Hudson above Mohawk River</td>\n",
        "      <td>  7/21/2013</td>\n",
        "      <td>   31</td>\n",
        "      <td> 0.0</td>\n",
        "      <td> 35</td>\n",
        "    </tr>\n",
        "  </tbody>\n",
        "</table>\n",
        "</div>"
       ],
       "metadata": {},
       "output_type": "pyout",
       "prompt_number": 5,
       "text": [
        "                        Site        Date EnteroCount  FourDayRainTotal  \\\n",
        "0  Hudson above Mohawk River  10/16/2011        1733               1.5   \n",
        "1  Hudson above Mohawk River  10/21/2013           4               0.2   \n",
        "2  Hudson above Mohawk River   9/21/2013          20               0.0   \n",
        "3  Hudson above Mohawk River   8/19/2013           6               0.0   \n",
        "4  Hudson above Mohawk River   7/21/2013          31               0.0   \n",
        "\n",
        "   SampleCount  \n",
        "0           35  \n",
        "1           35  \n",
        "2           35  \n",
        "3           35  \n",
        "4           35  "
       ]
      }
     ],
     "prompt_number": 5
    },
    {
     "cell_type": "code",
     "collapsed": false,
     "input": [
      "river_keeper.describe()"
     ],
     "language": "python",
     "metadata": {},
     "outputs": [
      {
       "html": [
        "<div style=\"max-height:1000px;max-width:1500px;overflow:auto;\">\n",
        "<table border=\"1\" class=\"dataframe\">\n",
        "  <thead>\n",
        "    <tr style=\"text-align: right;\">\n",
        "      <th></th>\n",
        "      <th>FourDayRainTotal</th>\n",
        "      <th>SampleCount</th>\n",
        "    </tr>\n",
        "  </thead>\n",
        "  <tbody>\n",
        "    <tr>\n",
        "      <th>count</th>\n",
        "      <td> 3397.000000</td>\n",
        "      <td> 3397.000000</td>\n",
        "    </tr>\n",
        "    <tr>\n",
        "      <th>mean</th>\n",
        "      <td>    0.568001</td>\n",
        "      <td>   56.886370</td>\n",
        "    </tr>\n",
        "    <tr>\n",
        "      <th>std</th>\n",
        "      <td>    1.000387</td>\n",
        "      <td>   41.588476</td>\n",
        "    </tr>\n",
        "    <tr>\n",
        "      <th>min</th>\n",
        "      <td>    0.000000</td>\n",
        "      <td>   27.000000</td>\n",
        "    </tr>\n",
        "    <tr>\n",
        "      <th>25%</th>\n",
        "      <td>    0.000000</td>\n",
        "      <td>   37.000000</td>\n",
        "    </tr>\n",
        "    <tr>\n",
        "      <th>50%</th>\n",
        "      <td>    0.200000</td>\n",
        "      <td>   42.000000</td>\n",
        "    </tr>\n",
        "    <tr>\n",
        "      <th>75%</th>\n",
        "      <td>    0.700000</td>\n",
        "      <td>   50.000000</td>\n",
        "    </tr>\n",
        "    <tr>\n",
        "      <th>max</th>\n",
        "      <td>    8.500000</td>\n",
        "      <td>  187.000000</td>\n",
        "    </tr>\n",
        "  </tbody>\n",
        "</table>\n",
        "</div>"
       ],
       "metadata": {},
       "output_type": "pyout",
       "prompt_number": 7,
       "text": [
        "       FourDayRainTotal  SampleCount\n",
        "count       3397.000000  3397.000000\n",
        "mean           0.568001    56.886370\n",
        "std            1.000387    41.588476\n",
        "min            0.000000    27.000000\n",
        "25%            0.000000    37.000000\n",
        "50%            0.200000    42.000000\n",
        "75%            0.700000    50.000000\n",
        "max            8.500000   187.000000"
       ]
      }
     ],
     "prompt_number": 7
    },
    {
     "cell_type": "code",
     "collapsed": false,
     "input": [
      "river_keeper['EnteroCount'].value_counts()"
     ],
     "language": "python",
     "metadata": {},
     "outputs": [
      {
       "metadata": {},
       "output_type": "pyout",
       "prompt_number": 8,
       "text": [
        "<10      528\n",
        "10       289\n",
        "20       148\n",
        "2         83\n",
        "4         78\n",
        "3         77\n",
        "1         77\n",
        "31        65\n",
        "41        64\n",
        "6         64\n",
        "5         63\n",
        ">2420     59\n",
        "11        59\n",
        "12        50\n",
        "7         47\n",
        "...\n",
        "280     1\n",
        "400     1\n",
        "2400    1\n",
        "404     1\n",
        "939     1\n",
        "288     1\n",
        "138     1\n",
        "4229    1\n",
        "479     1\n",
        "131     1\n",
        "1785    1\n",
        "760     1\n",
        "763     1\n",
        "762     1\n",
        "137     1\n",
        "Length: 425, dtype: int64"
       ]
      }
     ],
     "prompt_number": 8
    },
    {
     "cell_type": "code",
     "collapsed": false,
     "input": [
      "#there are some bad values and need to look at....>2420, 4229, <10"
     ],
     "language": "python",
     "metadata": {},
     "outputs": [],
     "prompt_number": 2
    },
    {
     "cell_type": "code",
     "collapsed": false,
     "input": [],
     "language": "python",
     "metadata": {},
     "outputs": []
    }
   ],
   "metadata": {}
  }
 ]
}